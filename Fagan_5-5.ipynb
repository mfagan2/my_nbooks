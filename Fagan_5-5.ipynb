{
 "cells": [
  {
   "cell_type": "markdown",
   "metadata": {},
   "source": [
    "## Marianne Fagan"
   ]
  },
  {
   "cell_type": "markdown",
   "metadata": {},
   "source": [
    "# Exercise 5-5: Get data from a JSON file"
   ]
  },
  {
   "cell_type": "code",
   "execution_count": null,
   "metadata": {},
   "outputs": [],
   "source": [
    "import pandas as pd"
   ]
  },
  {
   "cell_type": "code",
   "execution_count": null,
   "metadata": {},
   "outputs": [],
   "source": [
    "from urllib import request\n",
    "shots_url = 'https://www.murach.com/python_analysis/shots.json'\n",
    "request.urlretrieve(shots_url, filename='shots.json')"
   ]
  },
  {
   "cell_type": "code",
   "execution_count": null,
   "metadata": {},
   "outputs": [],
   "source": [
    "# add code to convert the json data into a dictionary. Then use the dictionary to build the DataFrame\n",
    "\n",
    "with open('shots.json') as json_data:\n",
    "    shots = json.load(json_data)\n",
    "\n",
    "allRows = shots['resultSets'][0]['rowSet']\n",
    "columnHeaders=[x.lower() for x in shots['resultSets'][0]['headers']]\n",
    "shots=pd.DataFrame(data = allRows, columns = columnHeaders)\n",
    "shots.head()"
   ]
  },
  {
   "cell_type": "code",
   "execution_count": null,
   "metadata": {},
   "outputs": [],
   "source": []
  }
 ],
 "metadata": {
  "kernelspec": {
   "display_name": "Python 3 (ipykernel)",
   "language": "python",
   "name": "python3"
  },
  "language_info": {
   "codemirror_mode": {
    "name": "ipython",
    "version": 3
   },
   "file_extension": ".py",
   "mimetype": "text/x-python",
   "name": "python",
   "nbconvert_exporter": "python",
   "pygments_lexer": "ipython3",
   "version": "3.12.4"
  }
 },
 "nbformat": 4,
 "nbformat_minor": 4
}
